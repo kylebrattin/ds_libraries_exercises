{
 "cells": [
  {
   "cell_type": "code",
   "execution_count": 6,
   "id": "88e93a2a-9aa6-439f-a5ae-adc9ea9f6db6",
   "metadata": {
    "tags": []
   },
   "outputs": [],
   "source": [
    "import pandas as pd\n",
    "import numpy as np\n",
    "from pydataset import data"
   ]
  },
  {
   "cell_type": "code",
   "execution_count": 130,
   "id": "2c5d305a-7299-47ff-ba92-97ae9de24212",
   "metadata": {},
   "outputs": [],
   "source": [
    "fruits_df = pd.Series ([\"kiwi\", \"mango\", \"strawberry\", \"pineapple\", \"gala apple\", \"honeycrisp apple\", \"tomato\", \"watermelon\", \"honeydew\", \"kiwi\", \"kiwi\", \"kiwi\", \"mango\", \"blueberry\", \"blackberry\", \"gooseberry\", \"papaya\"])"
   ]
  },
  {
   "cell_type": "markdown",
   "id": "29094a74-9f29-4752-ab7a-72a2e8284c6a",
   "metadata": {},
   "source": [
    "-- EXERCISES PART I -- "
   ]
  },
  {
   "cell_type": "code",
   "execution_count": 131,
   "id": "cb85ff63-83f1-4b72-ba3e-8686f541aaae",
   "metadata": {
    "tags": []
   },
   "outputs": [
    {
     "data": {
      "text/plain": [
       "17"
      ]
     },
     "execution_count": 131,
     "metadata": {},
     "output_type": "execute_result"
    }
   ],
   "source": [
    "#1\n",
    "fruits_df.size"
   ]
  },
  {
   "cell_type": "code",
   "execution_count": 132,
   "id": "8a2bbe8f-a742-467d-8651-8b6163149b09",
   "metadata": {
    "tags": []
   },
   "outputs": [
    {
     "data": {
      "text/plain": [
       "RangeIndex(start=0, stop=17, step=1)"
      ]
     },
     "execution_count": 132,
     "metadata": {},
     "output_type": "execute_result"
    }
   ],
   "source": [
    "#2\n",
    "fruits_df.index"
   ]
  },
  {
   "cell_type": "code",
   "execution_count": 133,
   "id": "22676d62-d172-4aa1-84da-aeb38a776cd5",
   "metadata": {
    "tags": []
   },
   "outputs": [
    {
     "data": {
      "text/plain": [
       "array(['kiwi', 'mango', 'strawberry', 'pineapple', 'gala apple',\n",
       "       'honeycrisp apple', 'tomato', 'watermelon', 'honeydew', 'kiwi',\n",
       "       'kiwi', 'kiwi', 'mango', 'blueberry', 'blackberry', 'gooseberry',\n",
       "       'papaya'], dtype=object)"
      ]
     },
     "execution_count": 133,
     "metadata": {},
     "output_type": "execute_result"
    }
   ],
   "source": [
    "#3\n",
    "fruits_df.values\n"
   ]
  },
  {
   "cell_type": "code",
   "execution_count": 134,
   "id": "693a6589-7979-412b-ad3e-0b4af7201f86",
   "metadata": {
    "tags": []
   },
   "outputs": [
    {
     "data": {
      "text/plain": [
       "dtype('O')"
      ]
     },
     "execution_count": 134,
     "metadata": {},
     "output_type": "execute_result"
    }
   ],
   "source": [
    "#4\n",
    "fruits_df.dtypes"
   ]
  },
  {
   "cell_type": "code",
   "execution_count": 135,
   "id": "35e954b3-d175-4295-9012-001e66412d45",
   "metadata": {
    "tags": []
   },
   "outputs": [
    {
     "data": {
      "text/plain": [
       "0          kiwi\n",
       "1         mango\n",
       "2    strawberry\n",
       "3     pineapple\n",
       "4    gala apple\n",
       "dtype: object"
      ]
     },
     "execution_count": 135,
     "metadata": {},
     "output_type": "execute_result"
    }
   ],
   "source": [
    "#5\n",
    "fruits_df.head(5)"
   ]
  },
  {
   "cell_type": "code",
   "execution_count": 136,
   "id": "5262ae64-5746-4458-beb8-e01a9be6d221",
   "metadata": {
    "tags": []
   },
   "outputs": [
    {
     "data": {
      "text/plain": [
       "8       honeydew\n",
       "14    blackberry\n",
       "dtype: object"
      ]
     },
     "execution_count": 136,
     "metadata": {},
     "output_type": "execute_result"
    }
   ],
   "source": [
    "fruits_df.sample(2)"
   ]
  },
  {
   "cell_type": "code",
   "execution_count": 137,
   "id": "8d4a953b-7d74-4e43-b840-73ffbf000cea",
   "metadata": {
    "tags": []
   },
   "outputs": [
    {
     "data": {
      "text/plain": [
       "14    blackberry\n",
       "15    gooseberry\n",
       "16        papaya\n",
       "dtype: object"
      ]
     },
     "execution_count": 137,
     "metadata": {},
     "output_type": "execute_result"
    }
   ],
   "source": [
    "fruits_df.tail(3)"
   ]
  },
  {
   "cell_type": "code",
   "execution_count": 138,
   "id": "98785c59-f7ce-4de4-b132-a4eafbe93712",
   "metadata": {
    "tags": []
   },
   "outputs": [
    {
     "data": {
      "text/plain": [
       "count       17\n",
       "unique      13\n",
       "top       kiwi\n",
       "freq         4\n",
       "dtype: object"
      ]
     },
     "execution_count": 138,
     "metadata": {},
     "output_type": "execute_result"
    }
   ],
   "source": [
    "#6\n",
    "fruits_df.describe()"
   ]
  },
  {
   "cell_type": "code",
   "execution_count": 139,
   "id": "aac9e48e-18f3-4e4f-8c4a-0a1431613fef",
   "metadata": {
    "tags": []
   },
   "outputs": [
    {
     "data": {
      "text/plain": [
       "array(['kiwi', 'mango', 'strawberry', 'pineapple', 'gala apple',\n",
       "       'honeycrisp apple', 'tomato', 'watermelon', 'honeydew',\n",
       "       'blueberry', 'blackberry', 'gooseberry', 'papaya'], dtype=object)"
      ]
     },
     "execution_count": 139,
     "metadata": {},
     "output_type": "execute_result"
    }
   ],
   "source": [
    "#7\n",
    "fruits_df.unique()"
   ]
  },
  {
   "cell_type": "code",
   "execution_count": 140,
   "id": "7dce0c46-0eed-4e25-82ff-57b07ddd2991",
   "metadata": {
    "tags": []
   },
   "outputs": [
    {
     "data": {
      "text/plain": [
       "kiwi                4\n",
       "mango               2\n",
       "strawberry          1\n",
       "pineapple           1\n",
       "gala apple          1\n",
       "honeycrisp apple    1\n",
       "tomato              1\n",
       "watermelon          1\n",
       "honeydew            1\n",
       "blueberry           1\n",
       "blackberry          1\n",
       "gooseberry          1\n",
       "papaya              1\n",
       "dtype: int64"
      ]
     },
     "execution_count": 140,
     "metadata": {},
     "output_type": "execute_result"
    }
   ],
   "source": [
    "#8\n",
    "fruits_df.value_counts()"
   ]
  },
  {
   "cell_type": "code",
   "execution_count": 141,
   "id": "b7b9f112-57b6-42c7-9369-3bef4964c149",
   "metadata": {
    "tags": []
   },
   "outputs": [
    {
     "data": {
      "text/plain": [
       "kiwi    4\n",
       "dtype: int64"
      ]
     },
     "execution_count": 141,
     "metadata": {},
     "output_type": "execute_result"
    }
   ],
   "source": [
    "#9\n",
    "fruits_df.value_counts().nlargest(1)"
   ]
  },
  {
   "cell_type": "code",
   "execution_count": 142,
   "id": "00fd547d-989b-4047-b7ad-9138f3144644",
   "metadata": {
    "tags": []
   },
   "outputs": [
    {
     "data": {
      "text/plain": [
       "strawberry          1\n",
       "pineapple           1\n",
       "gala apple          1\n",
       "honeycrisp apple    1\n",
       "tomato              1\n",
       "watermelon          1\n",
       "honeydew            1\n",
       "blueberry           1\n",
       "blackberry          1\n",
       "gooseberry          1\n",
       "papaya              1\n",
       "dtype: int64"
      ]
     },
     "execution_count": 142,
     "metadata": {},
     "output_type": "execute_result"
    }
   ],
   "source": [
    "#10\n",
    "fruits_df.value_counts().nsmallest(keep = 'all')"
   ]
  },
  {
   "cell_type": "markdown",
   "id": "cb30284a-e0dd-42e6-9ce1-c23a9e1f3fea",
   "metadata": {},
   "source": [
    "-- EXCERCISES PART II"
   ]
  },
  {
   "cell_type": "code",
   "execution_count": 272,
   "id": "9fdfbdf7-94c4-45b6-8893-eeaf79201dd3",
   "metadata": {},
   "outputs": [
    {
     "data": {
      "text/plain": [
       "0                 Kiwi\n",
       "1                Mango\n",
       "2           Strawberry\n",
       "3            Pineapple\n",
       "4           Gala apple\n",
       "5     Honeycrisp apple\n",
       "6               Tomato\n",
       "7           Watermelon\n",
       "8             Honeydew\n",
       "9                 Kiwi\n",
       "10                Kiwi\n",
       "11                Kiwi\n",
       "12               Mango\n",
       "13           Blueberry\n",
       "14          Blackberry\n",
       "15          Gooseberry\n",
       "16              Papaya\n",
       "dtype: object"
      ]
     },
     "execution_count": 272,
     "metadata": {},
     "output_type": "execute_result"
    }
   ],
   "source": [
    "#1 Capitalize all the string values in fruits.\n",
    "fruits_df.str.capitalize()"
   ]
  },
  {
   "cell_type": "code",
   "execution_count": 273,
   "id": "4747d241-f7bf-48c6-8088-27110199142b",
   "metadata": {},
   "outputs": [
    {
     "data": {
      "text/plain": [
       "14"
      ]
     },
     "execution_count": 273,
     "metadata": {},
     "output_type": "execute_result"
    }
   ],
   "source": [
    "#2 Count the letter \"a\" in all the string values (use string vectorization).\n",
    "fruits_df.str.count('a').sum()"
   ]
  },
  {
   "cell_type": "code",
   "execution_count": 334,
   "id": "ad84343e-98cd-43e9-984b-93905540e361",
   "metadata": {
    "tags": []
   },
   "outputs": [],
   "source": [
    "def count_vowels(word):\n",
    "    count = 0 \n",
    "\n",
    "    for char in word:\n",
    "#         print(char)\n",
    "        if char in list('aeiou'):\n",
    "#             print('this is a vowel')\n",
    "            count += 1\n",
    "    return count\n",
    "        "
   ]
  },
  {
   "cell_type": "code",
   "execution_count": 335,
   "id": "f291db1f-c485-490a-a297-541196fb6edf",
   "metadata": {},
   "outputs": [
    {
     "data": {
      "text/plain": [
       "0     2\n",
       "1     2\n",
       "2     2\n",
       "3     4\n",
       "4     4\n",
       "5     5\n",
       "6     3\n",
       "7     4\n",
       "8     3\n",
       "9     2\n",
       "10    2\n",
       "11    2\n",
       "12    2\n",
       "13    3\n",
       "14    2\n",
       "15    4\n",
       "16    3\n",
       "dtype: int64"
      ]
     },
     "execution_count": 335,
     "metadata": {},
     "output_type": "execute_result"
    }
   ],
   "source": [
    "#3 Output the number of vowels in each and every string value.\n",
    "fruits_df.apply(count_vowels)\n"
   ]
  },
  {
   "cell_type": "code",
   "execution_count": 152,
   "id": "d7bd591d-14ac-4d7a-ad7c-46f0271e9b2b",
   "metadata": {},
   "outputs": [
    {
     "data": {
      "text/plain": [
       "'honeycrisp apple'"
      ]
     },
     "execution_count": 152,
     "metadata": {},
     "output_type": "execute_result"
    }
   ],
   "source": [
    "#4 Write the code to get the longest string value from fruits.\n",
    "max(fruits_df, key=len)\n"
   ]
  },
  {
   "cell_type": "code",
   "execution_count": 154,
   "id": "82b5e20a-e726-4165-bdc6-4839ddc6c464",
   "metadata": {},
   "outputs": [
    {
     "data": {
      "text/plain": [
       "1                mango\n",
       "2           strawberry\n",
       "3            pineapple\n",
       "4           gala apple\n",
       "5     honeycrisp apple\n",
       "6               tomato\n",
       "7           watermelon\n",
       "8             honeydew\n",
       "12               mango\n",
       "13           blueberry\n",
       "14          blackberry\n",
       "15          gooseberry\n",
       "16              papaya\n",
       "dtype: object"
      ]
     },
     "execution_count": 154,
     "metadata": {},
     "output_type": "execute_result"
    }
   ],
   "source": [
    "fruits_df[fruits_df.str.len() >= 5]"
   ]
  },
  {
   "cell_type": "code",
   "execution_count": 158,
   "id": "916199fd-1d73-476f-976f-e8bedd2a91e8",
   "metadata": {},
   "outputs": [
    {
     "data": {
      "text/plain": [
       "6         tomato\n",
       "15    gooseberry\n",
       "dtype: object"
      ]
     },
     "execution_count": 158,
     "metadata": {},
     "output_type": "execute_result"
    }
   ],
   "source": [
    "#6 Find the fruit(s) containing the letter \"o\" two or more times.\n",
    "fruits_df[fruits_df.str.count('o') >= 2]\n"
   ]
  },
  {
   "cell_type": "code",
   "execution_count": 161,
   "id": "0ef03df3-081a-4857-a92a-f42bca4bd708",
   "metadata": {},
   "outputs": [
    {
     "data": {
      "text/plain": [
       "2     strawberry\n",
       "13     blueberry\n",
       "14    blackberry\n",
       "15    gooseberry\n",
       "dtype: object"
      ]
     },
     "execution_count": 161,
     "metadata": {},
     "output_type": "execute_result"
    }
   ],
   "source": [
    "#7 Write the code to get only the string values containing the substring \"berry\".\n",
    "fruits_df[fruits_df.str.contains('berry')]\n"
   ]
  },
  {
   "cell_type": "code",
   "execution_count": 163,
   "id": "110f26b7-9276-4cb9-b086-12ad94988982",
   "metadata": {},
   "outputs": [
    {
     "data": {
      "text/plain": [
       "3           pineapple\n",
       "4          gala apple\n",
       "5    honeycrisp apple\n",
       "dtype: object"
      ]
     },
     "execution_count": 163,
     "metadata": {},
     "output_type": "execute_result"
    }
   ],
   "source": [
    "#8 Write the code to get only the string values containing the substring \"apple\".\n",
    "\n",
    "fruits_df[fruits_df.str.contains('apple')]\n",
    "\n"
   ]
  },
  {
   "cell_type": "code",
   "execution_count": 336,
   "id": "20cc1e41-e6ac-460a-bc55-ffeea13258ed",
   "metadata": {},
   "outputs": [
    {
     "data": {
      "text/plain": [
       "5    honeycrisp apple\n",
       "dtype: object"
      ]
     },
     "execution_count": 336,
     "metadata": {},
     "output_type": "execute_result"
    }
   ],
   "source": [
    "#9 Which string value contains the most vowels?\n",
    "max_vowels = fruits.apply(count_vowels).max()\n",
    "max_vowels\n",
    "\n",
    "fruits [fruits.apply(count_vowels) == max_vowels]\n",
    "\n"
   ]
  },
  {
   "cell_type": "markdown",
   "id": "f9e57fe6-c483-44c0-ab35-d0e18a37e90c",
   "metadata": {},
   "source": [
    "-- EXERCISES PART III --\n"
   ]
  },
  {
   "cell_type": "code",
   "execution_count": 284,
   "id": "e302132b-7047-4c91-a326-c0c5bf6de98f",
   "metadata": {
    "tags": []
   },
   "outputs": [],
   "source": [
    "letters = list('hnvidduckkqxwymbimkccexbkmqygkxoyndmcxnwqarhyffsjpsrabtjzsypmzadfavyrnndndvswreauxovncxtwzpwejilzjrmmbbgbyxvjtewqthafnbkqplarokkyydtubbmnexoypulzwfhqvckdpqtpoppzqrmcvhhpwgjwupgzhiofohawytlsiyecuproguy')\n",
    "letter = pd.Series(letters)"
   ]
  },
  {
   "cell_type": "code",
   "execution_count": 285,
   "id": "200a219d-ff59-483e-b5e5-9401cbd2e7c9",
   "metadata": {
    "tags": []
   },
   "outputs": [
    {
     "data": {
      "text/plain": [
       "y    13\n",
       "dtype: int64"
      ]
     },
     "execution_count": 285,
     "metadata": {},
     "output_type": "execute_result"
    }
   ],
   "source": [
    "#1 Which letter occurs the most frequently in the letters Series?\n",
    "pd.value_counts(letter).head(1)"
   ]
  },
  {
   "cell_type": "code",
   "execution_count": 286,
   "id": "cd9d9a87-dbfb-491e-b26c-de57fcf923cf",
   "metadata": {
    "tags": []
   },
   "outputs": [
    {
     "data": {
      "text/plain": [
       "l    4\n",
       "dtype: int64"
      ]
     },
     "execution_count": 286,
     "metadata": {},
     "output_type": "execute_result"
    }
   ],
   "source": [
    "#2 Which letter occurs the Least frequently?\n",
    "pd.value_counts(letter).tail(1)"
   ]
  },
  {
   "cell_type": "code",
   "execution_count": 289,
   "id": "b8c239cb-8a68-4354-af75-c4433fa55239",
   "metadata": {
    "tags": []
   },
   "outputs": [
    {
     "data": {
      "text/plain": [
       "False    166\n",
       "True      34\n",
       "dtype: int64"
      ]
     },
     "execution_count": 289,
     "metadata": {},
     "output_type": "execute_result"
    }
   ],
   "source": [
    "#3 How many vowels are in the Series?\n",
    "letter.isin(vowels).value_counts()"
   ]
  },
  {
   "cell_type": "code",
   "execution_count": 288,
   "id": "e5a2dee7-fe97-4d1b-ad9b-39b929f51856",
   "metadata": {
    "tags": []
   },
   "outputs": [
    {
     "data": {
      "text/plain": [
       "False    166\n",
       "True      34\n",
       "dtype: int64"
      ]
     },
     "execution_count": 288,
     "metadata": {},
     "output_type": "execute_result"
    }
   ],
   "source": [
    "#4 How many consonants are in the Series?\n",
    "letter.isin(vowels).value_counts()"
   ]
  },
  {
   "cell_type": "code",
   "execution_count": 290,
   "id": "975e87dd-713f-4317-853e-49e095dbbd38",
   "metadata": {
    "tags": []
   },
   "outputs": [
    {
     "data": {
      "text/plain": [
       "0      H\n",
       "1      N\n",
       "2      V\n",
       "3      I\n",
       "4      D\n",
       "      ..\n",
       "195    R\n",
       "196    O\n",
       "197    G\n",
       "198    U\n",
       "199    Y\n",
       "Length: 200, dtype: object"
      ]
     },
     "execution_count": 290,
     "metadata": {},
     "output_type": "execute_result"
    }
   ],
   "source": [
    "#5 Create a Series that has all of the same letters but uppercased.\n",
    "upper_cased = letter.str.upper()\n",
    "upper_cased"
   ]
  },
  {
   "cell_type": "code",
   "execution_count": 300,
   "id": "2ac84cf0-4c03-4605-b263-e41ddc10af2e",
   "metadata": {
    "tags": []
   },
   "outputs": [
    {
     "data": {
      "image/png": "[encoded data removed]",
      "text/plain": [
       "<Figure size 640x480 with 1 Axes>"
      ]
     },
     "metadata": {},
     "output_type": "display_data"
    }
   ],
   "source": [
    "#6 Create a bar plot of the frequencies of the 6 most commonly occuring letters.\n",
    "letter.value_counts().head(6).plot.barh();"
   ]
  },
  {
   "cell_type": "code",
   "execution_count": 301,
   "id": "5c530516-172d-4cad-a252-d54a1a631912",
   "metadata": {
    "tags": []
   },
   "outputs": [],
   "source": [
    "num_list = pd.Series(['$796,459.41', '$278.60', '$482,571.67', '$4,503,915.98', '$2,121,418.3', '$1,260,813.3', '$87,231.01', '$1,509,175.45', '$4,138,548.00', '$2,848,913.80', '$594,715.39', '$4,789,988.17', '$4,513,644.5', '$3,191,059.97', '$1,758,712.24', '$4,338,283.54', '$4,738,303.38', '$2,791,759.67', '$769,681.94', '$452,650.23']\n",
    ")"
   ]
  },
  {
   "cell_type": "code",
   "execution_count": 302,
   "id": "bb21907b-8fb6-4df4-8d2f-4aace46b23f3",
   "metadata": {
    "tags": []
   },
   "outputs": [
    {
     "data": {
      "text/plain": [
       "dtype('O')"
      ]
     },
     "execution_count": 302,
     "metadata": {},
     "output_type": "execute_result"
    }
   ],
   "source": [
    "#1\n",
    "num_list.dtype"
   ]
  },
  {
   "cell_type": "code",
   "execution_count": 303,
   "id": "2c5fa80b-30c7-4bb5-b700-dc3de27e89db",
   "metadata": {
    "tags": []
   },
   "outputs": [
    {
     "data": {
      "text/plain": [
       "20"
      ]
     },
     "execution_count": 303,
     "metadata": {},
     "output_type": "execute_result"
    }
   ],
   "source": [
    "#2\n",
    "num_list.size"
   ]
  },
  {
   "cell_type": "code",
   "execution_count": 304,
   "id": "46f26d95-a45e-4b02-9e71-b054869dea7a",
   "metadata": {
    "tags": []
   },
   "outputs": [
    {
     "name": "stderr",
     "output_type": "stream",
     "text": [
      "/var/folders/jd/t05l8rl14_l105k8kn2tdng40000gn/T/ipykernel_51050/4053986219.py:2: FutureWarning: The default value of regex will change from True to False in a future version. In addition, single character regular expressions will *not* be treated as literal strings when regex=True.\n",
      "  num_list = num_list.str.replace('$', ' ').str.replace(',', '').astype(float)\n"
     ]
    },
    {
     "data": {
      "text/plain": [
       "0      796459.41\n",
       "1         278.60\n",
       "2      482571.67\n",
       "3     4503915.98\n",
       "4     2121418.30\n",
       "5     1260813.30\n",
       "6       87231.01\n",
       "7     1509175.45\n",
       "8     4138548.00\n",
       "9     2848913.80\n",
       "10     594715.39\n",
       "11    4789988.17\n",
       "12    4513644.50\n",
       "13    3191059.97\n",
       "14    1758712.24\n",
       "15    4338283.54\n",
       "16    4738303.38\n",
       "17    2791759.67\n",
       "18     769681.94\n",
       "19     452650.23\n",
       "dtype: float64"
      ]
     },
     "execution_count": 304,
     "metadata": {},
     "output_type": "execute_result"
    }
   ],
   "source": [
    "#3\n",
    "num_list = num_list.str.replace('$', ' ').str.replace(',', '').astype(float)\n",
    "num_list"
   ]
  },
  {
   "cell_type": "code",
   "execution_count": 228,
   "id": "9c059cd8-f138-4905-abb7-63e47b493120",
   "metadata": {
    "tags": []
   },
   "outputs": [
    {
     "data": {
      "text/plain": [
       "4789988.17"
      ]
     },
     "execution_count": 228,
     "metadata": {},
     "output_type": "execute_result"
    }
   ],
   "source": [
    "#4\n",
    "max(num_list)"
   ]
  },
  {
   "cell_type": "code",
   "execution_count": 227,
   "id": "542ed239-a638-46b7-ae02-8008e5dea7b7",
   "metadata": {
    "tags": []
   },
   "outputs": [
    {
     "data": {
      "text/plain": [
       "278.6"
      ]
     },
     "execution_count": 227,
     "metadata": {},
     "output_type": "execute_result"
    }
   ],
   "source": [
    "#5\n",
    "min(num_list)"
   ]
  },
  {
   "cell_type": "code",
   "execution_count": 305,
   "id": "422539f5-c7b5-4586-8a84-eed292229d1d",
   "metadata": {
    "tags": []
   },
   "outputs": [
    {
     "data": {
      "text/plain": [
       "4789709.57"
      ]
     },
     "execution_count": 305,
     "metadata": {},
     "output_type": "execute_result"
    }
   ],
   "source": [
    "max(num_list) - min(num_list)"
   ]
  },
  {
   "cell_type": "code",
   "execution_count": 230,
   "id": "28d4b606-d9b9-4b3e-89ea-290126ed747a",
   "metadata": {
    "tags": []
   },
   "outputs": [
    {
     "data": {
      "text/plain": [
       "0        (-4511.11, 1197705.993]\n",
       "1        (-4511.11, 1197705.993]\n",
       "2        (-4511.11, 1197705.993]\n",
       "3      (3592560.778, 4789988.17]\n",
       "4     (1197705.993, 2395133.385]\n",
       "5     (1197705.993, 2395133.385]\n",
       "6        (-4511.11, 1197705.993]\n",
       "7     (1197705.993, 2395133.385]\n",
       "8      (3592560.778, 4789988.17]\n",
       "9     (2395133.385, 3592560.778]\n",
       "10       (-4511.11, 1197705.993]\n",
       "11     (3592560.778, 4789988.17]\n",
       "12     (3592560.778, 4789988.17]\n",
       "13    (2395133.385, 3592560.778]\n",
       "14    (1197705.993, 2395133.385]\n",
       "15     (3592560.778, 4789988.17]\n",
       "16     (3592560.778, 4789988.17]\n",
       "17    (2395133.385, 3592560.778]\n",
       "18       (-4511.11, 1197705.993]\n",
       "19       (-4511.11, 1197705.993]\n",
       "dtype: category\n",
       "Categories (4, interval[float64, right]): [(-4511.11, 1197705.993] < (1197705.993, 2395133.385] < (2395133.385, 3592560.778] < (3592560.778, 4789988.17]]"
      ]
     },
     "execution_count": 230,
     "metadata": {},
     "output_type": "execute_result"
    }
   ],
   "source": [
    "#7\n",
    "pd.cut(num_list, bins=4)"
   ]
  },
  {
   "cell_type": "code",
   "execution_count": 232,
   "id": "c87c6bbf-935c-4b6e-8170-b0d26a7b9a8a",
   "metadata": {
    "tags": []
   },
   "outputs": [],
   "source": [
    "binned_nums = pd.cut(num_list, bins=4)"
   ]
  },
  {
   "cell_type": "code",
   "execution_count": 239,
   "id": "02d22cc2-fe52-47ae-8b15-ae7d234a2425",
   "metadata": {
    "tags": []
   },
   "outputs": [],
   "source": [
    "binned = binned_nums.value_counts().sort_index()"
   ]
  },
  {
   "cell_type": "code",
   "execution_count": 306,
   "id": "1a33d685-1e04-4923-b3fc-f9ccb4661593",
   "metadata": {
    "tags": []
   },
   "outputs": [
    {
     "data": {
      "text/plain": [
       "''"
      ]
     },
     "execution_count": 306,
     "metadata": {},
     "output_type": "execute_result"
    },
    {
     "data": {
      "image/png": "[encoded data removed]",
      "text/plain": [
       "<Figure size 640x480 with 1 Axes>"
      ]
     },
     "metadata": {},
     "output_type": "display_data"
    }
   ],
   "source": [
    "#8\n",
    "#customize plot\n",
    "binned.plot.barh(\n",
    "    title='Nice Bar Plot H'\n",
    ").set(\n",
    "    xlabel='# of bins',\n",
    "    ylabel='amount'\n",
    ")\n",
    ";"
   ]
  },
  {
   "cell_type": "code",
   "execution_count": 123,
   "id": "f3251ef6-ff27-4b07-9ece-9cef8d826923",
   "metadata": {
    "tags": []
   },
   "outputs": [],
   "source": [
    "exam_score = pd.Series([60, 86, 75, 62, 93, 71, 60, 83, 95, 78, 65, 72, 69, 81, 96, 80, 85, 92, 82, 78])"
   ]
  },
  {
   "cell_type": "code",
   "execution_count": 242,
   "id": "653689a9-47cb-4976-9fe2-1ae5c0ce8036",
   "metadata": {
    "tags": []
   },
   "outputs": [
    {
     "data": {
      "text/plain": [
       "20"
      ]
     },
     "execution_count": 242,
     "metadata": {},
     "output_type": "execute_result"
    }
   ],
   "source": [
    "#1\n",
    "exam_score.size"
   ]
  },
  {
   "cell_type": "code",
   "execution_count": 245,
   "id": "bb45c321-ce36-40de-985c-d687c6fd3ab4",
   "metadata": {
    "tags": []
   },
   "outputs": [
    {
     "data": {
      "text/plain": [
       "count    20.000000\n",
       "mean     78.150000\n",
       "std      11.352139\n",
       "min      60.000000\n",
       "25%      70.500000\n",
       "50%      79.000000\n",
       "75%      85.250000\n",
       "max      96.000000\n",
       "dtype: float64"
      ]
     },
     "execution_count": 245,
     "metadata": {},
     "output_type": "execute_result"
    }
   ],
   "source": [
    "#2\n",
    "exam_score.describe()"
   ]
  },
  {
   "cell_type": "code",
   "execution_count": 312,
   "id": "b9011348-5dfd-4916-bb18-5b951ee206c5",
   "metadata": {
    "tags": []
   },
   "outputs": [
    {
     "data": {
      "text/plain": [
       "''"
      ]
     },
     "execution_count": 312,
     "metadata": {},
     "output_type": "execute_result"
    },
    {
     "data": {
      "image/png": "[encoded data removed]",
      "text/plain": [
       "<Figure size 640x480 with 1 Axes>"
      ]
     },
     "metadata": {},
     "output_type": "display_data"
    }
   ],
   "source": [
    "#3\n",
    "exam_score.plot.hist(\n",
    "    title='Exam Score Bar plot'\n",
    ").set(\n",
    "    xlabel='Grades',\n",
    "    ylabel='Amount of Grades'\n",
    ")\n",
    ";"
   ]
  },
  {
   "cell_type": "code",
   "execution_count": 320,
   "id": "188e24a6-2eaf-40ed-8781-b9db238007f5",
   "metadata": {
    "tags": []
   },
   "outputs": [
    {
     "name": "stdout",
     "output_type": "stream",
     "text": [
      "0      64\n",
      "1      90\n",
      "2      79\n",
      "3      66\n",
      "4      97\n",
      "5      75\n",
      "6      64\n",
      "7      87\n",
      "8      99\n",
      "9      82\n",
      "10     69\n",
      "11     76\n",
      "12     73\n",
      "13     85\n",
      "14    100\n",
      "15     84\n",
      "16     89\n",
      "17     96\n",
      "18     86\n",
      "19     82\n",
      "dtype: int64\n"
     ]
    }
   ],
   "source": [
    "#4\n",
    "# = actual exam grade + curved score \n",
    "curved_grades = exam_score + (100 - max(exam_score))\n",
    "\n",
    "print(curved_grades)"
   ]
  },
  {
   "cell_type": "code",
   "execution_count": 326,
   "id": "c2aee4af-4021-4bd5-bc9b-1cf496a06b84",
   "metadata": {
    "tags": []
   },
   "outputs": [
    {
     "name": "stdout",
     "output_type": "stream",
     "text": [
      "0     D\n",
      "1     A\n",
      "2     C\n",
      "3     D\n",
      "4     A\n",
      "5     C\n",
      "6     D\n",
      "7     B\n",
      "8     A\n",
      "9     B\n",
      "10    D\n",
      "11    C\n",
      "12    C\n",
      "13    B\n",
      "14    A\n",
      "15    B\n",
      "16    B\n",
      "17    A\n",
      "18    B\n",
      "19    B\n",
      "dtype: category\n",
      "Categories (5, object): ['F' < 'D' < 'C' < 'B' < 'A']\n"
     ]
    }
   ],
   "source": [
    "#5\n",
    "bin_label = ['F','D','C','B','A']\n",
    "bin_grade = [0 ,60, 69, 80, 89, 101]\n",
    "\n",
    "letter_grades = pd.cut(curved_grades, bins = bin_grade, labels = bin_label)\n",
    "print(letter_grades)"
   ]
  },
  {
   "cell_type": "code",
   "execution_count": 330,
   "id": "8882855f-ee35-4e89-9c4c-7f58b9c134c7",
   "metadata": {
    "tags": []
   },
   "outputs": [
    {
     "data": {
      "text/plain": [
       "''"
      ]
     },
     "execution_count": 330,
     "metadata": {},
     "output_type": "execute_result"
    },
    {
     "data": {
      "image/png": "[encoded data removed]",
      "text/plain": [
       "<Figure size 640x480 with 1 Axes>"
      ]
     },
     "metadata": {},
     "output_type": "display_data"
    }
   ],
   "source": [
    "#6\n",
    "letter_grades.value_counts().plot.bar(\n",
    "    title='Grade Bar plot'\n",
    ").set(\n",
    "    xlabel='Grade',\n",
    "    ylabel='amount of Bins'\n",
    ")\n",
    ";"
   ]
  },
  {
   "cell_type": "code",
   "execution_count": null,
   "id": "65a2f12e-e5f7-4dc5-a3cb-c1a26fb229c6",
   "metadata": {},
   "outputs": [],
   "source": []
  }
 ],
 "metadata": {
  "kernelspec": {
   "display_name": "Python 3 (ipykernel)",
   "language": "python",
   "name": "python3"
  },
  "language_info": {
   "codemirror_mode": {
    "name": "ipython",
    "version": 3
   },
   "file_extension": ".py",
   "mimetype": "text/x-python",
   "name": "python",
   "nbconvert_exporter": "python",
   "pygments_lexer": "ipython3",
   "version": "3.11.4"
  }
 },
 "nbformat": 4,
 "nbformat_minor": 5
}
