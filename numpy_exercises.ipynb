{
 "cells": [
  {
   "cell_type": "code",
   "execution_count": 70,
   "id": "2f00301e-a7bd-4b6e-ba19-c2bc10e3b207",
   "metadata": {},
   "outputs": [],
   "source": [
    "import numpy as np\n"
   ]
  },
  {
   "cell_type": "code",
   "execution_count": 71,
   "id": "ee8fce65-b8da-4d26-b750-864c7df54a85",
   "metadata": {
    "tags": []
   },
   "outputs": [],
   "source": [
    "#use the following code for the questions below\n",
    "a = np.array([4, 10, 12, 23, -2, -1, 0, 0, 0, -6, 3, -7])"
   ]
  },
  {
   "cell_type": "code",
   "execution_count": 72,
   "id": "0918bac5-89e0-4bce-b631-2ea6bd48c67d",
   "metadata": {
    "tags": []
   },
   "outputs": [
    {
     "name": "stdout",
     "output_type": "stream",
     "text": [
      "4\n",
      "4\n"
     ]
    }
   ],
   "source": [
    "#1\n",
    "neg_a = np.sum(a < 0)\n",
    "print(neg_a)\n",
    "# 4\n",
    "\n",
    "under_zero = a < 0\n",
    "print( len(a[under_zero]))\n",
    "# 4 "
   ]
  },
  {
   "cell_type": "code",
   "execution_count": 73,
   "id": "de2a88cf-8663-4207-bb47-2acfbb0fae65",
   "metadata": {
    "tags": []
   },
   "outputs": [
    {
     "name": "stdout",
     "output_type": "stream",
     "text": [
      "5\n"
     ]
    }
   ],
   "source": [
    "# 2. How many positive numbers are there?\n",
    "\n",
    "pos_a = np.sum(a > 0)\n",
    "print(pos_a)"
   ]
  },
  {
   "cell_type": "code",
   "execution_count": 74,
   "id": "89cb7984-8d2f-4ea7-aa0a-1ef41e8dd426",
   "metadata": {
    "tags": []
   },
   "outputs": [
    {
     "name": "stdout",
     "output_type": "stream",
     "text": [
      "3\n"
     ]
    }
   ],
   "source": [
    "# 3. How many even positive numbers are there?\n",
    "\n",
    "even_a = (a % 2 == 0) & (a > 0)\n",
    "print(len(a[even_a]))"
   ]
  },
  {
   "cell_type": "code",
   "execution_count": 75,
   "id": "c324ca8a-6c52-4857-b81f-e695dd74bfe5",
   "metadata": {
    "tags": []
   },
   "outputs": [
    {
     "data": {
      "text/plain": [
       "10"
      ]
     },
     "execution_count": 75,
     "metadata": {},
     "output_type": "execute_result"
    }
   ],
   "source": [
    "# 4. if you were to add 3 to each data point, how many positive numbers would there be?\n",
    "\n",
    "((a + 3) > 0).sum()\n"
   ]
  },
  {
   "cell_type": "code",
   "execution_count": 76,
   "id": "a983d4d8-db20-4c14-b202-0b780d3cdca4",
   "metadata": {
    "tags": []
   },
   "outputs": [
    {
     "name": "stdout",
     "output_type": "stream",
     "text": [
      "[ 16 100 144 529   4   1   0   0   0  36   9  49]\n",
      "144.0243035046516\n"
     ]
    }
   ],
   "source": [
    "# 5. If you squared each number, what would the new mean and standard deviation be?\n",
    "\n",
    "square_it = a ** 2\n",
    "get_mean = square_it.mean()\n",
    "print(square_it)\n",
    "# 74.0\n",
    "\n",
    "get_stdev = square_it.std()\n",
    "print(get_stdev)\n",
    "# 144.02"
   ]
  },
  {
   "cell_type": "code",
   "execution_count": 77,
   "id": "951d12ce-b38a-4eb8-af52-7faa263ddeae",
   "metadata": {
    "tags": []
   },
   "outputs": [
    {
     "name": "stdout",
     "output_type": "stream",
     "text": [
      "[  1.   7.   9.  20.  -5.  -4.  -3.  -3.  -3.  -9.   0. -10.]\n",
      "[  1.   7.   9.  20.  -5.  -4.  -3.  -3.  -3.  -9.   0. -10.]\n"
     ]
    }
   ],
   "source": [
    "#6\n",
    "center_func = a - a.mean()\n",
    "\n",
    "print(center_func)\n",
    "# [  1.   7.   9.  20.  -5.  -4.  -3.  -3.  -3.  -9.   0. -10.]\n",
    "\n",
    "# found on the net and wanted to see it\n",
    "centaur = lambda x: x - x.mean()\n",
    "data_cent = centaur(a)\n",
    "print(data_cent)"
   ]
  },
  {
   "cell_type": "code",
   "execution_count": 78,
   "id": "a3688ac8-c5ce-43b4-86cb-f29c276feaf3",
   "metadata": {
    "tags": []
   },
   "outputs": [
    {
     "name": "stdout",
     "output_type": "stream",
     "text": [
      "[ 0.12403473  0.86824314  1.11631261  2.48069469 -0.62017367 -0.49613894\n",
      " -0.3721042  -0.3721042  -0.3721042  -1.11631261  0.         -1.24034735]\n"
     ]
    }
   ],
   "source": [
    "# 7. Calculate the z-score for each data point. \n",
    "# Recall that the z-score is given by: z = (x-u)/o\n",
    "\n",
    "z_score = (a - a.mean()) / a.std()\n",
    "\n",
    "print(z_score)\n",
    "\n"
   ]
  },
  {
   "cell_type": "code",
   "execution_count": 85,
   "id": "ccad20df-54f5-4cb6-b20d-9b474ecc95e5",
   "metadata": {
    "tags": []
   },
   "outputs": [],
   "source": [
    "#8A.\n",
    "a = ([1, 2, 3, 4, 5, 6, 7, 8, 9, 10])"
   ]
  },
  {
   "cell_type": "code",
   "execution_count": 86,
   "id": "af91da34-2bee-41f2-9f73-a6081addea23",
   "metadata": {
    "tags": []
   },
   "outputs": [
    {
     "name": "stdout",
     "output_type": "stream",
     "text": [
      "55\n"
     ]
    }
   ],
   "source": [
    "#1.A\n",
    "sum_of_a = sum(a)\n",
    "print(sum_of_a)"
   ]
  },
  {
   "cell_type": "code",
   "execution_count": 87,
   "id": "68ff687a-cda0-4d2b-a9af-944a86ce0488",
   "metadata": {
    "tags": []
   },
   "outputs": [
    {
     "name": "stdout",
     "output_type": "stream",
     "text": [
      "1\n"
     ]
    }
   ],
   "source": [
    "#2.A\n",
    "min_of_a = min(a)\n",
    "print(min_of_a)"
   ]
  },
  {
   "cell_type": "code",
   "execution_count": 88,
   "id": "fc954ad3-8bfd-4ce7-b62d-9c99545a7050",
   "metadata": {
    "tags": []
   },
   "outputs": [
    {
     "name": "stdout",
     "output_type": "stream",
     "text": [
      "10\n"
     ]
    }
   ],
   "source": [
    "#3.A\n",
    "max_of_a = max(a)\n",
    "print(max_of_a)"
   ]
  },
  {
   "cell_type": "code",
   "execution_count": 90,
   "id": "d9484b4e-5eea-4df2-b21f-1a9b676a3096",
   "metadata": {
    "tags": []
   },
   "outputs": [
    {
     "name": "stdout",
     "output_type": "stream",
     "text": [
      "5.5\n"
     ]
    }
   ],
   "source": [
    "#4.A\n",
    "mean_of_a = sum(a) / len(a)\n",
    "print(mean_of_a)"
   ]
  },
  {
   "cell_type": "code",
   "execution_count": 93,
   "id": "d678768f-f0b6-43b8-aeb3-05bcb6685109",
   "metadata": {
    "tags": []
   },
   "outputs": [
    {
     "data": {
      "text/plain": [
       "3628800"
      ]
     },
     "execution_count": 93,
     "metadata": {},
     "output_type": "execute_result"
    }
   ],
   "source": [
    "#5.A\n",
    "product_of_a = 1\n",
    "for item in a:\n",
    "    product_of_a *= item\n",
    "    \n",
    "product_of_a\n"
   ]
  },
  {
   "cell_type": "code",
   "execution_count": 95,
   "id": "555693e4-4064-476a-b609-42254910a0d7",
   "metadata": {
    "tags": []
   },
   "outputs": [
    {
     "data": {
      "text/plain": [
       "[1, 4, 9, 16, 25, 36, 49, 64, 81, 100]"
      ]
     },
     "execution_count": 95,
     "metadata": {},
     "output_type": "execute_result"
    }
   ],
   "source": [
    "#6.A\n",
    "square_of_a = []\n",
    "for i in a:\n",
    "    square_of_a.append(i **2)\n",
    "    \n",
    "square_of_a"
   ]
  },
  {
   "cell_type": "code",
   "execution_count": 158,
   "id": "b22d3f13-bf4e-4552-9bf6-048de0a3d6b2",
   "metadata": {
    "tags": []
   },
   "outputs": [
    {
     "name": "stdout",
     "output_type": "stream",
     "text": [
      "[1, 3, 5, 7, 9]\n"
     ]
    }
   ],
   "source": [
    "#7.A\n",
    "odds_in_a = [num for num in a if num % 2 == 1]\n",
    "print(odds_in_a)"
   ]
  },
  {
   "cell_type": "code",
   "execution_count": 183,
   "id": "3de1b504-9b42-4d76-a22b-6cd67a3ac9cb",
   "metadata": {
    "tags": []
   },
   "outputs": [
    {
     "name": "stdout",
     "output_type": "stream",
     "text": [
      "[2, 4, 6, 8, 10]\n"
     ]
    }
   ],
   "source": [
    "#8.A\n",
    "evens_in_a = [num for num in a if num % 2 == 0]\n",
    "print(evens_in_a)"
   ]
  },
  {
   "cell_type": "code",
   "execution_count": 108,
   "id": "d6f6c5f3-5d89-46be-837a-097181ef0176",
   "metadata": {
    "tags": []
   },
   "outputs": [],
   "source": [
    "import numpy as np"
   ]
  },
  {
   "cell_type": "code",
   "execution_count": 111,
   "id": "ecb39953-41cc-4bdd-85fa-bb21e1a9886d",
   "metadata": {
    "tags": []
   },
   "outputs": [],
   "source": [
    "b =np.array([\n",
    "    [3, 4, 5],\n",
    "    [6, 7, 8]\n",
    "])"
   ]
  },
  {
   "cell_type": "code",
   "execution_count": 116,
   "id": "2620fccf-7373-49d3-8cfe-67f12775b813",
   "metadata": {
    "tags": []
   },
   "outputs": [
    {
     "name": "stdout",
     "output_type": "stream",
     "text": [
      "33\n"
     ]
    }
   ],
   "source": [
    "#1.B\n",
    "sum_of_b = b.sum()\n",
    "print(sum_of_b)"
   ]
  },
  {
   "cell_type": "code",
   "execution_count": 119,
   "id": "f3d619d3-a441-4927-8e6c-0ed4e7d0ce04",
   "metadata": {
    "tags": []
   },
   "outputs": [
    {
     "name": "stdout",
     "output_type": "stream",
     "text": [
      "3\n"
     ]
    }
   ],
   "source": [
    "#2.B\n",
    "min_of_b = b.min()\n",
    "print(min_of_b)"
   ]
  },
  {
   "cell_type": "code",
   "execution_count": 120,
   "id": "95d97469-b082-4868-a35c-965bca6dce84",
   "metadata": {
    "tags": []
   },
   "outputs": [
    {
     "name": "stdout",
     "output_type": "stream",
     "text": [
      "8\n"
     ]
    }
   ],
   "source": [
    "#3.B\n",
    "max_of_b = b.max()\n",
    "print(max_of_b)"
   ]
  },
  {
   "cell_type": "code",
   "execution_count": 122,
   "id": "9845b788-425b-4ffe-800f-d61a61f339df",
   "metadata": {
    "tags": []
   },
   "outputs": [
    {
     "name": "stdout",
     "output_type": "stream",
     "text": [
      "20160\n"
     ]
    }
   ],
   "source": [
    "#4.B\n",
    "product_of_b = b.prod()\n",
    "print(product_of_b)"
   ]
  },
  {
   "cell_type": "code",
   "execution_count": 179,
   "id": "18ae5d71-da92-40f5-a359-aa4982999d6d",
   "metadata": {
    "tags": []
   },
   "outputs": [
    {
     "name": "stdout",
     "output_type": "stream",
     "text": [
      "[[ 9 16 25]\n",
      " [36 49 64]]\n"
     ]
    }
   ],
   "source": [
    "#5.B\n",
    "squares_of_b = b ** 2\n",
    "print(squares_of_b)"
   ]
  },
  {
   "cell_type": "code",
   "execution_count": 180,
   "id": "eecf13dd-912e-444b-9d21-c25db58ba3bf",
   "metadata": {
    "tags": []
   },
   "outputs": [
    {
     "name": "stdout",
     "output_type": "stream",
     "text": [
      "[1, 3, 5, 7, 9]\n"
     ]
    }
   ],
   "source": [
    "#6.B\n",
    "odds_in_b = [num for num in a if num % 2 == 1]\n",
    "print(odds_in_b)"
   ]
  },
  {
   "cell_type": "code",
   "execution_count": 182,
   "id": "9512f35a-2dff-4405-a469-4882dd916211",
   "metadata": {
    "tags": []
   },
   "outputs": [
    {
     "name": "stdout",
     "output_type": "stream",
     "text": [
      "[2, 4, 6, 8, 10]\n"
     ]
    }
   ],
   "source": [
    "#7.B\n",
    "evens_in_b = [num for num in a if num % 2 == 0]\n",
    "print(evens_in_b)"
   ]
  },
  {
   "cell_type": "code",
   "execution_count": 126,
   "id": "d1ebc258-a0bc-4442-a695-7e57f9bfdd4b",
   "metadata": {
    "tags": []
   },
   "outputs": [
    {
     "data": {
      "text/plain": [
       "(2, 3)"
      ]
     },
     "execution_count": 126,
     "metadata": {},
     "output_type": "execute_result"
    }
   ],
   "source": [
    "#9.B\n",
    "np.shape(b)"
   ]
  },
  {
   "cell_type": "code",
   "execution_count": 124,
   "id": "20e5d1b6-3c02-4f5c-b4c2-3c415e43a328",
   "metadata": {
    "tags": []
   },
   "outputs": [
    {
     "data": {
      "text/plain": [
       "array([[3, 6],\n",
       "       [4, 7],\n",
       "       [5, 8]])"
      ]
     },
     "execution_count": 124,
     "metadata": {},
     "output_type": "execute_result"
    }
   ],
   "source": [
    "#10.B\n",
    "b.transpose()"
   ]
  },
  {
   "cell_type": "code",
   "execution_count": 127,
   "id": "0c54c77e-ec67-45d0-833e-51ed1e8ef4d5",
   "metadata": {
    "tags": []
   },
   "outputs": [
    {
     "data": {
      "text/plain": [
       "array([3, 4, 5, 6, 7, 8])"
      ]
     },
     "execution_count": 127,
     "metadata": {},
     "output_type": "execute_result"
    }
   ],
   "source": [
    "#11.B\n",
    "np.reshape(b, (6,))"
   ]
  },
  {
   "cell_type": "code",
   "execution_count": 131,
   "id": "26574f66-09b8-47df-a7bc-c225f9b45bdc",
   "metadata": {
    "tags": []
   },
   "outputs": [
    {
     "data": {
      "text/plain": [
       "array([[3],\n",
       "       [4],\n",
       "       [5],\n",
       "       [6],\n",
       "       [7],\n",
       "       [8]])"
      ]
     },
     "execution_count": 131,
     "metadata": {},
     "output_type": "execute_result"
    }
   ],
   "source": [
    "#12.B\n",
    "np.reshape(b,(6,1))"
   ]
  },
  {
   "cell_type": "code",
   "execution_count": 132,
   "id": "216b3566-d19f-4564-a065-e5f8f06f432b",
   "metadata": {
    "tags": []
   },
   "outputs": [],
   "source": [
    "c = np.array([\n",
    "    [1, 2, 3],\n",
    "    [4, 5, 6],\n",
    "    [7, 8, 9]\n",
    "])"
   ]
  },
  {
   "cell_type": "code",
   "execution_count": 142,
   "id": "23e477af-7000-4101-b062-a06a92c40b50",
   "metadata": {
    "tags": []
   },
   "outputs": [
    {
     "name": "stdout",
     "output_type": "stream",
     "text": [
      "{'max': 9, 'min': 1, 'sum': 45, 'product': 362880}\n"
     ]
    }
   ],
   "source": [
    "#1.C\n",
    "outputs = c.max(), c.min(), c.sum(), c.prod()\n",
    "type(outputs)\n",
    "outputs\n",
    "\n",
    "labels =['max', 'min', 'sum', 'product']\n",
    "\n",
    "answers = dict(zip(labels, outputs))\n",
    "print(answers)"
   ]
  },
  {
   "cell_type": "code",
   "execution_count": 145,
   "id": "df911506-23ef-4a09-9fc4-ebc821e40e05",
   "metadata": {
    "tags": []
   },
   "outputs": [
    {
     "name": "stdout",
     "output_type": "stream",
     "text": [
      "{'max': 9, 'min': 1, 'sum': 45, 'product': 362880, 'Std': 2.581988897471611}\n"
     ]
    }
   ],
   "source": [
    "#2.C\n",
    "c.std()\n",
    "answers['Std'] = c.std()\n",
    "print(answers)"
   ]
  },
  {
   "cell_type": "code",
   "execution_count": 184,
   "id": "cc093be4-2bcd-4964-8437-49ee437f3e5d",
   "metadata": {
    "tags": []
   },
   "outputs": [
    {
     "name": "stdout",
     "output_type": "stream",
     "text": [
      "{'max': 9, 'min': 1, 'sum': 45, 'product': 362880, 'Std': 2.581988897471611, 'variance': 6.666666666666667}\n"
     ]
    }
   ],
   "source": [
    "#3.C\n",
    "answers['variance'] = c.var()\n",
    "print(answers)"
   ]
  },
  {
   "cell_type": "code",
   "execution_count": 146,
   "id": "518e80e6-8a88-4296-8909-a8351ad29ddf",
   "metadata": {
    "tags": []
   },
   "outputs": [
    {
     "data": {
      "text/plain": [
       "(3, 3)"
      ]
     },
     "execution_count": 146,
     "metadata": {},
     "output_type": "execute_result"
    }
   ],
   "source": [
    "#4.C\n",
    "c.shape\n"
   ]
  },
  {
   "cell_type": "code",
   "execution_count": 149,
   "id": "0c212a78-55b2-4866-81c0-9e1e781d499e",
   "metadata": {
    "tags": []
   },
   "outputs": [
    {
     "data": {
      "text/plain": [
       "array([[1, 4, 7],\n",
       "       [2, 5, 8],\n",
       "       [3, 6, 9]])"
      ]
     },
     "execution_count": 149,
     "metadata": {},
     "output_type": "execute_result"
    }
   ],
   "source": [
    "#5.C\n",
    "c.T\n"
   ]
  },
  {
   "cell_type": "code",
   "execution_count": 151,
   "id": "695a8d4a-846d-450b-a4c4-00bda6b3dc11",
   "metadata": {
    "tags": []
   },
   "outputs": [
    {
     "data": {
      "text/plain": [
       "array([[ 30,  36,  42],\n",
       "       [ 66,  81,  96],\n",
       "       [102, 126, 150]])"
      ]
     },
     "execution_count": 151,
     "metadata": {},
     "output_type": "execute_result"
    }
   ],
   "source": [
    "#6.C\n",
    "np.dot(c,c)"
   ]
  },
  {
   "cell_type": "code",
   "execution_count": 153,
   "id": "5a697d70-d8da-4d61-bba0-eb3e10fd8a6c",
   "metadata": {
    "tags": []
   },
   "outputs": [
    {
     "data": {
      "text/plain": [
       "261"
      ]
     },
     "execution_count": 153,
     "metadata": {},
     "output_type": "execute_result"
    }
   ],
   "source": [
    "#7.C\n",
    "np.sum(c* c.T)"
   ]
  },
  {
   "cell_type": "code",
   "execution_count": 154,
   "id": "717fd0c7-91dc-4409-b205-86eca01c56c7",
   "metadata": {
    "tags": []
   },
   "outputs": [
    {
     "data": {
      "text/plain": [
       "131681894400"
      ]
     },
     "execution_count": 154,
     "metadata": {},
     "output_type": "execute_result"
    }
   ],
   "source": [
    "#8.C\n",
    "np.prod(c * c.T)"
   ]
  },
  {
   "cell_type": "code",
   "execution_count": 156,
   "id": "fe789ec2-58fc-475a-90ff-916a94d17fc1",
   "metadata": {
    "tags": []
   },
   "outputs": [],
   "source": [
    "d = np.array ([\n",
    "    [90, 30, 45, 0, 120, 180],\n",
    "    [45, -90, -30, 270, 90, 0],\n",
    "    [60, 45, -45, 90, -45, 180]\n",
    "])"
   ]
  },
  {
   "cell_type": "code",
   "execution_count": 159,
   "id": "0dcfdf3b-0d38-4b73-a735-2d0efcd28409",
   "metadata": {
    "tags": []
   },
   "outputs": [
    {
     "name": "stdout",
     "output_type": "stream",
     "text": [
      "{'Sine': array([[ 0.89399666, -0.98803162,  0.85090352,  0.        ,  0.58061118,\n",
      "        -0.80115264],\n",
      "       [ 0.85090352, -0.89399666,  0.98803162, -0.17604595,  0.89399666,\n",
      "         0.        ],\n",
      "       [-0.30481062,  0.85090352, -0.85090352,  0.89399666, -0.85090352,\n",
      "        -0.80115264]])}\n"
     ]
    }
   ],
   "source": [
    "#1.D\n",
    "ans = {}\n",
    "ans['Sine'] = np.sin(d)\n",
    "print(ans)"
   ]
  },
  {
   "cell_type": "code",
   "execution_count": 160,
   "id": "71368fb4-182f-42b4-85ec-a5da5dc6105f",
   "metadata": {
    "tags": []
   },
   "outputs": [
    {
     "name": "stdout",
     "output_type": "stream",
     "text": [
      "{'Sine': array([[ 0.89399666, -0.98803162,  0.85090352,  0.        ,  0.58061118,\n",
      "        -0.80115264],\n",
      "       [ 0.85090352, -0.89399666,  0.98803162, -0.17604595,  0.89399666,\n",
      "         0.        ],\n",
      "       [-0.30481062,  0.85090352, -0.85090352,  0.89399666, -0.85090352,\n",
      "        -0.80115264]]), 'Cos': array([[-0.44807362,  0.15425145,  0.52532199,  1.        ,  0.81418097,\n",
      "        -0.59846007],\n",
      "       [ 0.52532199, -0.44807362,  0.15425145,  0.98438195, -0.44807362,\n",
      "         1.        ],\n",
      "       [-0.95241298,  0.52532199,  0.52532199, -0.44807362,  0.52532199,\n",
      "        -0.59846007]])}\n"
     ]
    }
   ],
   "source": [
    "#2.D\n",
    "ans['Cos'] = np.cos(d)\n",
    "print(ans)"
   ]
  },
  {
   "cell_type": "code",
   "execution_count": 162,
   "id": "81980c5c-43d4-4a5a-bb2e-6dc015368e32",
   "metadata": {
    "tags": []
   },
   "outputs": [
    {
     "name": "stdout",
     "output_type": "stream",
     "text": [
      "{'Sine': array([[ 0.89399666, -0.98803162,  0.85090352,  0.        ,  0.58061118,\n",
      "        -0.80115264],\n",
      "       [ 0.85090352, -0.89399666,  0.98803162, -0.17604595,  0.89399666,\n",
      "         0.        ],\n",
      "       [-0.30481062,  0.85090352, -0.85090352,  0.89399666, -0.85090352,\n",
      "        -0.80115264]]), 'Cos': array([[-0.44807362,  0.15425145,  0.52532199,  1.        ,  0.81418097,\n",
      "        -0.59846007],\n",
      "       [ 0.52532199, -0.44807362,  0.15425145,  0.98438195, -0.44807362,\n",
      "         1.        ],\n",
      "       [-0.95241298,  0.52532199,  0.52532199, -0.44807362,  0.52532199,\n",
      "        -0.59846007]]), 'tan': array([[-1.99520041, -6.4053312 ,  1.61977519,  0.        ,  0.71312301,\n",
      "         1.33869021],\n",
      "       [ 1.61977519,  1.99520041,  6.4053312 , -0.17883906, -1.99520041,\n",
      "         0.        ],\n",
      "       [ 0.32004039,  1.61977519, -1.61977519, -1.99520041, -1.61977519,\n",
      "         1.33869021]])}\n"
     ]
    }
   ],
   "source": [
    "#3.D\n",
    "ans['tan'] = np.tan(d)\n",
    "print(ans)"
   ]
  },
  {
   "cell_type": "code",
   "execution_count": 161,
   "id": "ee107e18-6209-4c32-9f7a-51db89b487ba",
   "metadata": {
    "tags": []
   },
   "outputs": [
    {
     "data": {
      "text/plain": [
       "array([-90, -30, -45, -45])"
      ]
     },
     "execution_count": 161,
     "metadata": {},
     "output_type": "execute_result"
    }
   ],
   "source": [
    "#4.D\n",
    "d[(d < 0)]\n"
   ]
  },
  {
   "cell_type": "code",
   "execution_count": 165,
   "id": "9543f7b5-e238-4b74-9921-b0b552933175",
   "metadata": {
    "tags": []
   },
   "outputs": [
    {
     "data": {
      "text/plain": [
       "array([ 90,  30,  45, 120, 180,  45, 270,  90,  60,  45,  90, 180])"
      ]
     },
     "execution_count": 165,
     "metadata": {},
     "output_type": "execute_result"
    }
   ],
   "source": [
    "#5.D\n",
    "d[(d > 0)]"
   ]
  },
  {
   "cell_type": "code",
   "execution_count": 166,
   "id": "b78e3f3b-db44-47b7-829c-dc242a4d2c29",
   "metadata": {
    "tags": []
   },
   "outputs": [
    {
     "data": {
      "text/plain": [
       "array([-90, -45, -30,   0,  30,  45,  60,  90, 120, 180, 270])"
      ]
     },
     "execution_count": 166,
     "metadata": {},
     "output_type": "execute_result"
    }
   ],
   "source": [
    "#6.D\n",
    "np.unique(d)"
   ]
  },
  {
   "cell_type": "code",
   "execution_count": 167,
   "id": "31a789dc-ab62-4488-a55e-40065382f3e7",
   "metadata": {
    "tags": []
   },
   "outputs": [
    {
     "data": {
      "text/plain": [
       "11"
      ]
     },
     "execution_count": 167,
     "metadata": {},
     "output_type": "execute_result"
    }
   ],
   "source": [
    "#7.D\n",
    "len(np.unique(d))"
   ]
  },
  {
   "cell_type": "code",
   "execution_count": 171,
   "id": "c8d0bbe8-f943-4d61-bdd1-be963631476a",
   "metadata": {
    "tags": []
   },
   "outputs": [
    {
     "data": {
      "text/plain": [
       "(3, 6)"
      ]
     },
     "execution_count": 171,
     "metadata": {},
     "output_type": "execute_result"
    }
   ],
   "source": [
    "#8.D\n",
    "d.shape"
   ]
  },
  {
   "cell_type": "code",
   "execution_count": 177,
   "id": "eb75a3bf-1147-4b0a-98a1-0fe79fbd684f",
   "metadata": {
    "tags": []
   },
   "outputs": [
    {
     "name": "stdout",
     "output_type": "stream",
     "text": [
      "(6, 3)\n"
     ]
    }
   ],
   "source": [
    "#9.D\n",
    "new_shape = d.T \n",
    "print(new_shape.shape)"
   ]
  },
  {
   "cell_type": "code",
   "execution_count": 175,
   "id": "1eddb996-b947-43e8-a06a-21453889cd95",
   "metadata": {
    "tags": []
   },
   "outputs": [
    {
     "data": {
      "text/plain": [
       "array([[ 90,  30],\n",
       "       [ 45,   0],\n",
       "       [120, 180],\n",
       "       [ 45, -90],\n",
       "       [-30, 270],\n",
       "       [ 90,   0],\n",
       "       [ 60,  45],\n",
       "       [-45,  90],\n",
       "       [-45, 180]])"
      ]
     },
     "execution_count": 175,
     "metadata": {},
     "output_type": "execute_result"
    }
   ],
   "source": [
    "#10.D\n",
    "d.reshape(9,2)"
   ]
  }
 ],
 "metadata": {
  "kernelspec": {
   "display_name": "Python 3 (ipykernel)",
   "language": "python",
   "name": "python3"
  },
  "language_info": {
   "codemirror_mode": {
    "name": "ipython",
    "version": 3
   },
   "file_extension": ".py",
   "mimetype": "text/x-python",
   "name": "python",
   "nbconvert_exporter": "python",
   "pygments_lexer": "ipython3",
   "version": "3.11.4"
  }
 },
 "nbformat": 4,
 "nbformat_minor": 5
}
